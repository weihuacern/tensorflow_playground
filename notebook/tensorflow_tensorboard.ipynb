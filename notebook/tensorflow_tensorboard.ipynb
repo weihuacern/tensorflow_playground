{
 "cells": [
  {
   "cell_type": "code",
   "execution_count": 1,
   "metadata": {},
   "outputs": [],
   "source": [
    "import datetime\n",
    "import os\n",
    "\n",
    "import numpy as np\n",
    "import tensorflow as tf"
   ]
  },
  {
   "cell_type": "code",
   "execution_count": 2,
   "metadata": {},
   "outputs": [
    {
     "name": "stdout",
     "output_type": "stream",
     "text": [
      "Tensorflow Version: 2.1.0\n",
      "Eager mode: True\n",
      "[PhysicalDevice(name='/physical_device:GPU:0', device_type='GPU')]\n"
     ]
    }
   ],
   "source": [
    "print(f\"Tensorflow Version: {tf.__version__}\")\n",
    "print(f\"Eager mode: {tf.executing_eagerly()}\")\n",
    "print(f\"{tf.config.list_physical_devices('GPU')}\")"
   ]
  },
  {
   "cell_type": "code",
   "execution_count": 3,
   "metadata": {},
   "outputs": [],
   "source": [
    "(train_image, train_label), (test_image, test_label) = tf.keras.datasets.mnist.load_data()"
   ]
  },
  {
   "cell_type": "code",
   "execution_count": 4,
   "metadata": {},
   "outputs": [],
   "source": [
    "train_image = tf.cast(tf.expand_dims(train_image, -1)/255, tf.float32)\n",
    "train_label = tf.cast(train_label, tf.int64)\n",
    "test_image = tf.cast(tf.expand_dims(test_image, -1)/255, tf.float32)\n",
    "test_label = tf.cast(test_label, tf.int64)"
   ]
  },
  {
   "cell_type": "code",
   "execution_count": 5,
   "metadata": {},
   "outputs": [
    {
     "data": {
      "text/plain": [
       "<BatchDataset shapes: ((None, 28, 28, 1), (None,)), types: (tf.float32, tf.int64)>"
      ]
     },
     "execution_count": 5,
     "metadata": {},
     "output_type": "execute_result"
    }
   ],
   "source": [
    "train_dataset = tf.data.Dataset.from_tensor_slices((train_image, train_label))\n",
    "train_dataset = train_dataset.repeat().shuffle(60000).batch(128)\n",
    "train_dataset"
   ]
  },
  {
   "cell_type": "code",
   "execution_count": 6,
   "metadata": {},
   "outputs": [
    {
     "data": {
      "text/plain": [
       "<BatchDataset shapes: ((None, 28, 28, 1), (None,)), types: (tf.float32, tf.int64)>"
      ]
     },
     "execution_count": 6,
     "metadata": {},
     "output_type": "execute_result"
    }
   ],
   "source": [
    "test_dataset = tf.data.Dataset.from_tensor_slices((test_image, test_label))\n",
    "test_dataset = test_dataset.repeat(1).batch(128)\n",
    "test_dataset"
   ]
  },
  {
   "cell_type": "code",
   "execution_count": 7,
   "metadata": {},
   "outputs": [],
   "source": [
    "model = tf.keras.Sequential([\n",
    "    tf.keras.layers.Conv2D(16, [3,3], activation='relu', input_shape=(28, 28, 1)),\n",
    "    tf.keras.layers.Conv2D(32, [3,3], activation='relu'),\n",
    "    tf.keras.layers.GlobalMaxPool2D(),\n",
    "    tf.keras.layers.Dense(10, activation='softmax'),\n",
    "])"
   ]
  },
  {
   "cell_type": "code",
   "execution_count": 8,
   "metadata": {},
   "outputs": [],
   "source": [
    "model.compile(\n",
    "    optimizer=tf.keras.optimizers.Adam(),\n",
    "    loss=tf.keras.losses.SparseCategoricalCrossentropy(),\n",
    "    metrics=['accuracy'],\n",
    ")"
   ]
  },
  {
   "cell_type": "code",
   "execution_count": 9,
   "metadata": {},
   "outputs": [],
   "source": [
    "log_dir = os.path.join('logs', datetime.datetime.now().strftime(\"%T%m%d-%H%M%S\"))\n",
    "tensorboard_callback = tf.keras.callbacks.TensorBoard(log_dir=log_dir, histogram_freq=1)"
   ]
  },
  {
   "cell_type": "code",
   "execution_count": 10,
   "metadata": {},
   "outputs": [],
   "source": [
    "# Customized feature in tensorflow board\n",
    "file_writer = tf.summary.create_file_writer(log_dir+'/lr')\n",
    "file_writer.set_as_default()\n",
    "\n",
    "def lr_sche(epoch):\n",
    "    lr = 0.2\n",
    "    if epoch > 5:\n",
    "        lr = 0.02\n",
    "    if epoch > 10:\n",
    "        lr = 0.01\n",
    "    if epoch > 20:\n",
    "        lr = 0.005\n",
    "    tf.summary.scalar('learning_rate', data=lr, step=epoch)\n",
    "    return lr\n",
    "\n",
    "lr_callback = tf.keras.callbacks.LearningRateScheduler(lr_sche)"
   ]
  },
  {
   "cell_type": "code",
   "execution_count": 11,
   "metadata": {},
   "outputs": [
    {
     "name": "stdout",
     "output_type": "stream",
     "text": [
      "Train for 468 steps, validate for 78 steps\n",
      "Epoch 1/25\n",
      "468/468 [==============================] - 3s 5ms/step - loss: 2.3470 - accuracy: 0.1036 - val_loss: 2.3186 - val_accuracy: 0.1010\n",
      "Epoch 2/25\n",
      "468/468 [==============================] - 1s 3ms/step - loss: 2.3125 - accuracy: 0.1048 - val_loss: 2.3069 - val_accuracy: 0.1029\n",
      "Epoch 3/25\n",
      "468/468 [==============================] - 2s 3ms/step - loss: 2.3131 - accuracy: 0.1027 - val_loss: 2.3126 - val_accuracy: 0.0975\n",
      "Epoch 4/25\n",
      "468/468 [==============================] - 1s 3ms/step - loss: 2.3115 - accuracy: 0.1034 - val_loss: 2.3088 - val_accuracy: 0.1010\n",
      "Epoch 5/25\n",
      "468/468 [==============================] - 2s 3ms/step - loss: 2.3132 - accuracy: 0.1040 - val_loss: 2.3136 - val_accuracy: 0.1010\n",
      "Epoch 6/25\n",
      "468/468 [==============================] - 1s 3ms/step - loss: 2.3133 - accuracy: 0.1020 - val_loss: 2.3118 - val_accuracy: 0.1135\n",
      "Epoch 7/25\n",
      "468/468 [==============================] - 2s 3ms/step - loss: 2.3025 - accuracy: 0.1100 - val_loss: 2.3029 - val_accuracy: 0.1135\n",
      "Epoch 8/25\n",
      "468/468 [==============================] - 1s 3ms/step - loss: 2.3026 - accuracy: 0.1098 - val_loss: 2.3056 - val_accuracy: 0.1029\n",
      "Epoch 9/25\n",
      "468/468 [==============================] - 2s 3ms/step - loss: 2.3025 - accuracy: 0.1090 - val_loss: 2.3028 - val_accuracy: 0.1135\n",
      "Epoch 10/25\n",
      "468/468 [==============================] - 2s 3ms/step - loss: 2.3026 - accuracy: 0.1094 - val_loss: 2.3023 - val_accuracy: 0.1029\n",
      "Epoch 11/25\n",
      "468/468 [==============================] - 2s 3ms/step - loss: 2.3025 - accuracy: 0.1104 - val_loss: 2.3019 - val_accuracy: 0.1135\n",
      "Epoch 12/25\n",
      "468/468 [==============================] - 2s 3ms/step - loss: 2.3017 - accuracy: 0.1107 - val_loss: 2.3013 - val_accuracy: 0.1135\n",
      "Epoch 13/25\n",
      "468/468 [==============================] - 1s 3ms/step - loss: 2.3021 - accuracy: 0.1094 - val_loss: 2.3013 - val_accuracy: 0.1135\n",
      "Epoch 14/25\n",
      "468/468 [==============================] - 2s 3ms/step - loss: 2.3015 - accuracy: 0.1123 - val_loss: 2.3018 - val_accuracy: 0.1135\n",
      "Epoch 15/25\n",
      "468/468 [==============================] - 2s 3ms/step - loss: 2.3021 - accuracy: 0.1099 - val_loss: 2.3018 - val_accuracy: 0.1135\n",
      "Epoch 16/25\n",
      "468/468 [==============================] - 2s 3ms/step - loss: 2.3019 - accuracy: 0.1117 - val_loss: 2.3017 - val_accuracy: 0.1135\n",
      "Epoch 17/25\n",
      "468/468 [==============================] - 2s 3ms/step - loss: 2.3020 - accuracy: 0.1125 - val_loss: 2.3015 - val_accuracy: 0.1135\n",
      "Epoch 18/25\n",
      "468/468 [==============================] - 2s 3ms/step - loss: 2.3018 - accuracy: 0.1123 - val_loss: 2.3013 - val_accuracy: 0.1135\n",
      "Epoch 19/25\n",
      "468/468 [==============================] - 2s 3ms/step - loss: 2.3018 - accuracy: 0.1113 - val_loss: 2.3016 - val_accuracy: 0.1135\n",
      "Epoch 20/25\n",
      "468/468 [==============================] - 2s 3ms/step - loss: 2.3019 - accuracy: 0.1101 - val_loss: 2.3019 - val_accuracy: 0.1135\n",
      "Epoch 21/25\n",
      "468/468 [==============================] - 2s 3ms/step - loss: 2.3018 - accuracy: 0.1096 - val_loss: 2.3012 - val_accuracy: 0.1135\n",
      "Epoch 22/25\n",
      "468/468 [==============================] - 2s 3ms/step - loss: 2.3018 - accuracy: 0.1115 - val_loss: 2.3020 - val_accuracy: 0.1135\n",
      "Epoch 23/25\n",
      "468/468 [==============================] - 2s 3ms/step - loss: 2.3016 - accuracy: 0.1124 - val_loss: 2.3012 - val_accuracy: 0.1135\n",
      "Epoch 24/25\n",
      "468/468 [==============================] - 2s 3ms/step - loss: 2.3014 - accuracy: 0.1137 - val_loss: 2.3011 - val_accuracy: 0.1135\n",
      "Epoch 25/25\n",
      "468/468 [==============================] - 2s 3ms/step - loss: 2.3015 - accuracy: 0.1123 - val_loss: 2.3013 - val_accuracy: 0.1135\n"
     ]
    },
    {
     "data": {
      "text/plain": [
       "<tensorflow.python.keras.callbacks.History at 0x7fc600d74908>"
      ]
     },
     "execution_count": 11,
     "metadata": {},
     "output_type": "execute_result"
    }
   ],
   "source": [
    "model.fit(\n",
    "    train_dataset,\n",
    "    epochs=25,\n",
    "    steps_per_epoch=60000//128,\n",
    "    validation_data=test_dataset,\n",
    "    validation_steps=10000//128,\n",
    "    callbacks=[tensorboard_callback, lr_callback],\n",
    ")"
   ]
  },
  {
   "cell_type": "code",
   "execution_count": 12,
   "metadata": {},
   "outputs": [],
   "source": [
    "%load_ext tensorboard\n",
    "%matplotlib inline"
   ]
  },
  {
   "cell_type": "code",
   "execution_count": 13,
   "metadata": {},
   "outputs": [
    {
     "data": {
      "text/plain": [
       "Reusing TensorBoard on port 6006 (pid 15555), started 2:34:12 ago. (Use '!kill 15555' to kill it.)"
      ]
     },
     "metadata": {},
     "output_type": "display_data"
    },
    {
     "data": {
      "text/html": [
       "\n",
       "      <iframe id=\"tensorboard-frame-2980c5822b20ae7d\" width=\"100%\" height=\"800\" frameborder=\"0\">\n",
       "      </iframe>\n",
       "      <script>\n",
       "        (function() {\n",
       "          const frame = document.getElementById(\"tensorboard-frame-2980c5822b20ae7d\");\n",
       "          const url = new URL(\"/\", window.location);\n",
       "          url.port = 6006;\n",
       "          frame.src = url;\n",
       "        })();\n",
       "      </script>\n",
       "  "
      ],
      "text/plain": [
       "<IPython.core.display.HTML object>"
      ]
     },
     "metadata": {},
     "output_type": "display_data"
    }
   ],
   "source": [
    "%tensorboard --logdir logs/"
   ]
  },
  {
   "cell_type": "markdown",
   "metadata": {},
   "source": [
    "### End of file"
   ]
  }
 ],
 "metadata": {
  "kernelspec": {
   "display_name": "Python 3",
   "language": "python",
   "name": "python3"
  },
  "language_info": {
   "codemirror_mode": {
    "name": "ipython",
    "version": 3
   },
   "file_extension": ".py",
   "mimetype": "text/x-python",
   "name": "python",
   "nbconvert_exporter": "python",
   "pygments_lexer": "ipython3",
   "version": "3.6.9"
  }
 },
 "nbformat": 4,
 "nbformat_minor": 4
}
