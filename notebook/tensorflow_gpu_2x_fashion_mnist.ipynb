{
 "cells": [
  {
   "cell_type": "code",
   "execution_count": 1,
   "metadata": {},
   "outputs": [],
   "source": [
    "import matplotlib.pyplot as plt\n",
    "import numpy as np\n",
    "import pandas as pd\n",
    "import tensorflow as tf\n",
    "%matplotlib inline"
   ]
  },
  {
   "cell_type": "code",
   "execution_count": 2,
   "metadata": {},
   "outputs": [
    {
     "name": "stdout",
     "output_type": "stream",
     "text": [
      "Tensorflow version: 2.1.0\n"
     ]
    }
   ],
   "source": [
    "print(f\"Tensorflow version: {tf.__version__}\")"
   ]
  },
  {
   "cell_type": "code",
   "execution_count": 3,
   "metadata": {},
   "outputs": [
    {
     "data": {
      "text/plain": [
       "[PhysicalDevice(name='/physical_device:GPU:0', device_type='GPU')]"
      ]
     },
     "execution_count": 3,
     "metadata": {},
     "output_type": "execute_result"
    }
   ],
   "source": [
    "tf.config.list_physical_devices('GPU')"
   ]
  },
  {
   "cell_type": "code",
   "execution_count": 4,
   "metadata": {},
   "outputs": [],
   "source": [
    "(train_images, train_labels), (test_images, test_labels) = tf.keras.datasets.fashion_mnist.load_data()"
   ]
  },
  {
   "cell_type": "code",
   "execution_count": 5,
   "metadata": {},
   "outputs": [
    {
     "data": {
      "text/plain": [
       "(60000, 28, 28)"
      ]
     },
     "execution_count": 5,
     "metadata": {},
     "output_type": "execute_result"
    }
   ],
   "source": [
    "train_images.shape"
   ]
  },
  {
   "cell_type": "markdown",
   "metadata": {},
   "source": [
    "### Data Processing\n",
    "Required image processing dimensions for CNN: (number of images, height, width, channel)"
   ]
  },
  {
   "cell_type": "code",
   "execution_count": 6,
   "metadata": {},
   "outputs": [],
   "source": [
    "train_images = np.expand_dims(train_images, -1)"
   ]
  },
  {
   "cell_type": "code",
   "execution_count": 7,
   "metadata": {},
   "outputs": [
    {
     "data": {
      "text/plain": [
       "(60000, 28, 28, 1)"
      ]
     },
     "execution_count": 7,
     "metadata": {},
     "output_type": "execute_result"
    }
   ],
   "source": [
    "train_images.shape"
   ]
  },
  {
   "cell_type": "code",
   "execution_count": 8,
   "metadata": {},
   "outputs": [],
   "source": [
    "test_images = np.expand_dims(test_images, -1)"
   ]
  },
  {
   "cell_type": "markdown",
   "metadata": {},
   "source": [
    "### Model building\n",
    "\n",
    "- First layer, Conv2D, extract features: how many convolutional kernels, and kernel size\n",
    "- Then Max pooling, reduce size, Pooling, keep on zooming out\n",
    "- Then Conv2D, double number of kernels\n",
    "- Then Global average pooling, add all height and width on each channel\n",
    "- Dense with softmax"
   ]
  },
  {
   "cell_type": "code",
   "execution_count": 9,
   "metadata": {},
   "outputs": [],
   "source": [
    "model = tf.keras.Sequential(\n",
    "    [\n",
    "        tf.keras.layers.Conv2D(32, (3,3),\n",
    "                               input_shape=train_images.shape[1:],\n",
    "                               # input_shape=(28,28,1),\n",
    "                               activation='relu',\n",
    "                               padding='same'),\n",
    "        tf.keras.layers.MaxPool2D(pool_size=(2,2)),\n",
    "        tf.keras.layers.Conv2D(64, (3,3), activation='relu', padding='same'),\n",
    "        tf.keras.layers.GlobalAveragePooling2D(),\n",
    "        tf.keras.layers.Dense(10, activation='softmax'),\n",
    "    ]\n",
    ")"
   ]
  },
  {
   "cell_type": "code",
   "execution_count": 10,
   "metadata": {},
   "outputs": [
    {
     "name": "stdout",
     "output_type": "stream",
     "text": [
      "Model: \"sequential\"\n",
      "_________________________________________________________________\n",
      "Layer (type)                 Output Shape              Param #   \n",
      "=================================================================\n",
      "conv2d (Conv2D)              (None, 28, 28, 32)        320       \n",
      "_________________________________________________________________\n",
      "max_pooling2d (MaxPooling2D) (None, 14, 14, 32)        0         \n",
      "_________________________________________________________________\n",
      "conv2d_1 (Conv2D)            (None, 14, 14, 64)        18496     \n",
      "_________________________________________________________________\n",
      "global_average_pooling2d (Gl (None, 64)                0         \n",
      "_________________________________________________________________\n",
      "dense (Dense)                (None, 10)                650       \n",
      "=================================================================\n",
      "Total params: 19,466\n",
      "Trainable params: 19,466\n",
      "Non-trainable params: 0\n",
      "_________________________________________________________________\n"
     ]
    }
   ],
   "source": [
    "model.summary()"
   ]
  },
  {
   "cell_type": "code",
   "execution_count": 11,
   "metadata": {},
   "outputs": [],
   "source": [
    "model.compile(\n",
    "    optimizer=tf.keras.optimizers.Adam(learning_rate=0.001),\n",
    "    loss='sparse_categorical_crossentropy',\n",
    "    metrics=['accuracy'],\n",
    ")"
   ]
  },
  {
   "cell_type": "code",
   "execution_count": 12,
   "metadata": {},
   "outputs": [
    {
     "name": "stdout",
     "output_type": "stream",
     "text": [
      "Train on 60000 samples, validate on 10000 samples\n",
      "Epoch 1/30\n",
      "60000/60000 [==============================] - 4s 61us/sample - loss: 0.7879 - accuracy: 0.7374 - val_loss: 0.5580 - val_accuracy: 0.8075\n",
      "Epoch 2/30\n",
      "60000/60000 [==============================] - 3s 47us/sample - loss: 0.4897 - accuracy: 0.8284 - val_loss: 0.4586 - val_accuracy: 0.8430\n",
      "Epoch 3/30\n",
      "60000/60000 [==============================] - 3s 48us/sample - loss: 0.4321 - accuracy: 0.8471 - val_loss: 0.4648 - val_accuracy: 0.8420\n",
      "Epoch 4/30\n",
      "60000/60000 [==============================] - 3s 47us/sample - loss: 0.3941 - accuracy: 0.8622 - val_loss: 0.3947 - val_accuracy: 0.8635\n",
      "Epoch 5/30\n",
      "60000/60000 [==============================] - 3s 48us/sample - loss: 0.3686 - accuracy: 0.8698 - val_loss: 0.4041 - val_accuracy: 0.8610\n",
      "Epoch 6/30\n",
      "60000/60000 [==============================] - 3s 47us/sample - loss: 0.3488 - accuracy: 0.8775 - val_loss: 0.3621 - val_accuracy: 0.8748\n",
      "Epoch 7/30\n",
      "60000/60000 [==============================] - 3s 48us/sample - loss: 0.3313 - accuracy: 0.8831 - val_loss: 0.3509 - val_accuracy: 0.8814\n",
      "Epoch 8/30\n",
      "60000/60000 [==============================] - 3s 48us/sample - loss: 0.3201 - accuracy: 0.8872 - val_loss: 0.3715 - val_accuracy: 0.8724\n",
      "Epoch 9/30\n",
      "60000/60000 [==============================] - 3s 47us/sample - loss: 0.3081 - accuracy: 0.8917 - val_loss: 0.3443 - val_accuracy: 0.8826\n",
      "Epoch 10/30\n",
      "60000/60000 [==============================] - 3s 48us/sample - loss: 0.2972 - accuracy: 0.8962 - val_loss: 0.3436 - val_accuracy: 0.8818\n",
      "Epoch 11/30\n",
      "60000/60000 [==============================] - 3s 48us/sample - loss: 0.2878 - accuracy: 0.8995 - val_loss: 0.3246 - val_accuracy: 0.8893\n",
      "Epoch 12/30\n",
      "60000/60000 [==============================] - 3s 48us/sample - loss: 0.2798 - accuracy: 0.9013 - val_loss: 0.3221 - val_accuracy: 0.8898\n",
      "Epoch 13/30\n",
      "60000/60000 [==============================] - 3s 48us/sample - loss: 0.2749 - accuracy: 0.9038 - val_loss: 0.3103 - val_accuracy: 0.8924\n",
      "Epoch 14/30\n",
      "60000/60000 [==============================] - 3s 48us/sample - loss: 0.2671 - accuracy: 0.9053 - val_loss: 0.3548 - val_accuracy: 0.8842\n",
      "Epoch 15/30\n",
      "60000/60000 [==============================] - 3s 48us/sample - loss: 0.2623 - accuracy: 0.9079 - val_loss: 0.3194 - val_accuracy: 0.8891\n",
      "Epoch 16/30\n",
      "60000/60000 [==============================] - 3s 48us/sample - loss: 0.2554 - accuracy: 0.9099 - val_loss: 0.3279 - val_accuracy: 0.8910\n",
      "Epoch 17/30\n",
      "60000/60000 [==============================] - 3s 48us/sample - loss: 0.2520 - accuracy: 0.9110 - val_loss: 0.3282 - val_accuracy: 0.8883\n",
      "Epoch 18/30\n",
      "60000/60000 [==============================] - 3s 48us/sample - loss: 0.2470 - accuracy: 0.9129 - val_loss: 0.3494 - val_accuracy: 0.8854\n",
      "Epoch 19/30\n",
      "60000/60000 [==============================] - 3s 48us/sample - loss: 0.2418 - accuracy: 0.9147 - val_loss: 0.3070 - val_accuracy: 0.8954\n",
      "Epoch 20/30\n",
      "60000/60000 [==============================] - 3s 49us/sample - loss: 0.2362 - accuracy: 0.9166 - val_loss: 0.3092 - val_accuracy: 0.8971\n",
      "Epoch 21/30\n",
      "60000/60000 [==============================] - 3s 48us/sample - loss: 0.2326 - accuracy: 0.9178 - val_loss: 0.3297 - val_accuracy: 0.8882\n",
      "Epoch 22/30\n",
      "60000/60000 [==============================] - 3s 48us/sample - loss: 0.2305 - accuracy: 0.9178 - val_loss: 0.3038 - val_accuracy: 0.8971\n",
      "Epoch 23/30\n",
      "60000/60000 [==============================] - 3s 48us/sample - loss: 0.2292 - accuracy: 0.9189 - val_loss: 0.3089 - val_accuracy: 0.8941\n",
      "Epoch 24/30\n",
      "60000/60000 [==============================] - 3s 48us/sample - loss: 0.2223 - accuracy: 0.9210 - val_loss: 0.3264 - val_accuracy: 0.8920\n",
      "Epoch 25/30\n",
      "60000/60000 [==============================] - 3s 49us/sample - loss: 0.2188 - accuracy: 0.9211 - val_loss: 0.3185 - val_accuracy: 0.8944\n",
      "Epoch 26/30\n",
      "60000/60000 [==============================] - 3s 48us/sample - loss: 0.2149 - accuracy: 0.9231 - val_loss: 0.3007 - val_accuracy: 0.9004\n",
      "Epoch 27/30\n",
      "60000/60000 [==============================] - 3s 48us/sample - loss: 0.2135 - accuracy: 0.9252 - val_loss: 0.3199 - val_accuracy: 0.8982\n",
      "Epoch 28/30\n",
      "60000/60000 [==============================] - 3s 49us/sample - loss: 0.2111 - accuracy: 0.9244 - val_loss: 0.3377 - val_accuracy: 0.8866\n",
      "Epoch 29/30\n",
      "60000/60000 [==============================] - 3s 48us/sample - loss: 0.2058 - accuracy: 0.9272 - val_loss: 0.3256 - val_accuracy: 0.8917\n",
      "Epoch 30/30\n",
      "60000/60000 [==============================] - 3s 48us/sample - loss: 0.2034 - accuracy: 0.9284 - val_loss: 0.3219 - val_accuracy: 0.8976\n"
     ]
    }
   ],
   "source": [
    "history = model.fit(train_images, train_labels,\n",
    "                    epochs=30,\n",
    "                    validation_data=(test_images, test_labels))"
   ]
  },
  {
   "cell_type": "code",
   "execution_count": 13,
   "metadata": {},
   "outputs": [
    {
     "data": {
      "text/plain": [
       "<matplotlib.legend.Legend at 0x7fbf4ffbeeb8>"
      ]
     },
     "execution_count": 13,
     "metadata": {},
     "output_type": "execute_result"
    },
    {
     "data": {
      "image/png": "[encoded data removed]",
      "text/plain": [
       "<Figure size 432x288 with 1 Axes>"
      ]
     },
     "metadata": {
      "needs_background": "light"
     },
     "output_type": "display_data"
    }
   ],
   "source": [
    "plt.plot(history.epoch, history.history.get('accuracy'), label='Train dataset accuracy')\n",
    "plt.plot(history.epoch, history.history.get('val_accuracy'), label='Test dataset accuracy')\n",
    "plt.legend()"
   ]
  },
  {
   "cell_type": "markdown",
   "metadata": {},
   "source": [
    "As shown in plot:\n",
    "- Train dataset accuracy is around 92%: model can be improved to improve accuracy\n",
    "- Test dataset accuracy is around 89%, and oscillation after epoch 20: model overfit\n",
    "\n",
    "One can improve accuracy by:\n",
    "- Adding more hidden layers in Conv layers\n",
    "- More conv layers\n",
    "\n",
    "One can prevent overfit by:\n",
    "- Adding dropout layer"
   ]
  },
  {
   "cell_type": "code",
   "execution_count": 14,
   "metadata": {},
   "outputs": [],
   "source": [
    "model = tf.keras.Sequential(\n",
    "    [\n",
    "        tf.keras.layers.Conv2D(64, (3,3), input_shape=train_images.shape[1:], activation='relu', padding='same'),\n",
    "        tf.keras.layers.Conv2D(64, (3,3), activation='relu', padding='same'),\n",
    "        tf.keras.layers.MaxPool2D(pool_size=(2,2)),\n",
    "        tf.keras.layers.Dropout(0.5),\n",
    "        tf.keras.layers.Conv2D(128, (3,3), activation='relu', padding='same'),\n",
    "        tf.keras.layers.Conv2D(128, (3,3), activation='relu', padding='same'),\n",
    "        tf.keras.layers.MaxPool2D(pool_size=(2,2)),\n",
    "        tf.keras.layers.Dropout(0.5),\n",
    "        tf.keras.layers.Conv2D(256, (3,3), activation='relu', padding='same'),\n",
    "        tf.keras.layers.Conv2D(256, (3,3), activation='relu', padding='same'),\n",
    "        tf.keras.layers.GlobalAveragePooling2D(),\n",
    "        tf.keras.layers.Dropout(0.5),\n",
    "        tf.keras.layers.Dense(256, activation='relu'),\n",
    "        tf.keras.layers.Dense(10, activation='softmax'),\n",
    "    ]\n",
    ")"
   ]
  },
  {
   "cell_type": "code",
   "execution_count": 15,
   "metadata": {},
   "outputs": [
    {
     "name": "stdout",
     "output_type": "stream",
     "text": [
      "Model: \"sequential_1\"\n",
      "_________________________________________________________________\n",
      "Layer (type)                 Output Shape              Param #   \n",
      "=================================================================\n",
      "conv2d_2 (Conv2D)            (None, 28, 28, 64)        640       \n",
      "_________________________________________________________________\n",
      "conv2d_3 (Conv2D)            (None, 28, 28, 64)        36928     \n",
      "_________________________________________________________________\n",
      "max_pooling2d_1 (MaxPooling2 (None, 14, 14, 64)        0         \n",
      "_________________________________________________________________\n",
      "dropout (Dropout)            (None, 14, 14, 64)        0         \n",
      "_________________________________________________________________\n",
      "conv2d_4 (Conv2D)            (None, 14, 14, 128)       73856     \n",
      "_________________________________________________________________\n",
      "conv2d_5 (Conv2D)            (None, 14, 14, 128)       147584    \n",
      "_________________________________________________________________\n",
      "max_pooling2d_2 (MaxPooling2 (None, 7, 7, 128)         0         \n",
      "_________________________________________________________________\n",
      "dropout_1 (Dropout)          (None, 7, 7, 128)         0         \n",
      "_________________________________________________________________\n",
      "conv2d_6 (Conv2D)            (None, 7, 7, 256)         295168    \n",
      "_________________________________________________________________\n",
      "conv2d_7 (Conv2D)            (None, 7, 7, 256)         590080    \n",
      "_________________________________________________________________\n",
      "global_average_pooling2d_1 ( (None, 256)               0         \n",
      "_________________________________________________________________\n",
      "dropout_2 (Dropout)          (None, 256)               0         \n",
      "_________________________________________________________________\n",
      "dense_1 (Dense)              (None, 256)               65792     \n",
      "_________________________________________________________________\n",
      "dense_2 (Dense)              (None, 10)                2570      \n",
      "=================================================================\n",
      "Total params: 1,212,618\n",
      "Trainable params: 1,212,618\n",
      "Non-trainable params: 0\n",
      "_________________________________________________________________\n"
     ]
    }
   ],
   "source": [
    "model.summary()"
   ]
  },
  {
   "cell_type": "code",
   "execution_count": 16,
   "metadata": {},
   "outputs": [],
   "source": [
    "model.compile(\n",
    "    optimizer=tf.keras.optimizers.Adam(learning_rate=0.001),\n",
    "    loss='sparse_categorical_crossentropy',\n",
    "    metrics=['accuracy'],\n",
    ")"
   ]
  },
  {
   "cell_type": "code",
   "execution_count": 17,
   "metadata": {
    "scrolled": true
   },
   "outputs": [
    {
     "name": "stdout",
     "output_type": "stream",
     "text": [
      "Train on 60000 samples, validate on 10000 samples\n",
      "Epoch 1/60\n",
      "60000/60000 [==============================] - 10s 172us/sample - loss: 0.9906 - accuracy: 0.6219 - val_loss: 0.5439 - val_accuracy: 0.8055\n",
      "Epoch 2/60\n",
      "60000/60000 [==============================] - 10s 171us/sample - loss: 0.5089 - accuracy: 0.8141 - val_loss: 0.4890 - val_accuracy: 0.8187\n",
      "Epoch 3/60\n",
      "60000/60000 [==============================] - 10s 171us/sample - loss: 0.4401 - accuracy: 0.8386 - val_loss: 0.4505 - val_accuracy: 0.8195\n",
      "Epoch 4/60\n",
      "60000/60000 [==============================] - 10s 164us/sample - loss: 0.4008 - accuracy: 0.8527 - val_loss: 0.3722 - val_accuracy: 0.8633\n",
      "Epoch 5/60\n",
      "60000/60000 [==============================] - 10s 163us/sample - loss: 0.3769 - accuracy: 0.8604 - val_loss: 0.3443 - val_accuracy: 0.8721\n",
      "Epoch 6/60\n",
      "60000/60000 [==============================] - 10s 163us/sample - loss: 0.3550 - accuracy: 0.8697 - val_loss: 0.3261 - val_accuracy: 0.8740\n",
      "Epoch 7/60\n",
      "60000/60000 [==============================] - 10s 166us/sample - loss: 0.3378 - accuracy: 0.8752 - val_loss: 0.3199 - val_accuracy: 0.8856\n",
      "Epoch 8/60\n",
      "60000/60000 [==============================] - 10s 166us/sample - loss: 0.3277 - accuracy: 0.8803 - val_loss: 0.2859 - val_accuracy: 0.8924\n",
      "Epoch 9/60\n",
      "60000/60000 [==============================] - 10s 169us/sample - loss: 0.3142 - accuracy: 0.8843 - val_loss: 0.3049 - val_accuracy: 0.8838\n",
      "Epoch 10/60\n",
      "60000/60000 [==============================] - 10s 165us/sample - loss: 0.3092 - accuracy: 0.8872 - val_loss: 0.3117 - val_accuracy: 0.8794\n",
      "Epoch 11/60\n",
      "60000/60000 [==============================] - 10s 167us/sample - loss: 0.3039 - accuracy: 0.8887 - val_loss: 0.2875 - val_accuracy: 0.8899\n",
      "Epoch 12/60\n",
      "60000/60000 [==============================] - 10s 164us/sample - loss: 0.2971 - accuracy: 0.8906 - val_loss: 0.2775 - val_accuracy: 0.8954\n",
      "Epoch 13/60\n",
      "60000/60000 [==============================] - 10s 166us/sample - loss: 0.3014 - accuracy: 0.8892 - val_loss: 0.2992 - val_accuracy: 0.8913\n",
      "Epoch 14/60\n",
      "60000/60000 [==============================] - 10s 164us/sample - loss: 0.2937 - accuracy: 0.8917 - val_loss: 0.3086 - val_accuracy: 0.8815\n",
      "Epoch 15/60\n",
      "60000/60000 [==============================] - 10s 164us/sample - loss: 0.2844 - accuracy: 0.8973 - val_loss: 0.2830 - val_accuracy: 0.8947\n",
      "Epoch 16/60\n",
      "60000/60000 [==============================] - 10s 168us/sample - loss: 0.2837 - accuracy: 0.8960 - val_loss: 0.2727 - val_accuracy: 0.8963\n",
      "Epoch 17/60\n",
      "60000/60000 [==============================] - 10s 166us/sample - loss: 0.2817 - accuracy: 0.8961 - val_loss: 0.2786 - val_accuracy: 0.8964\n",
      "Epoch 18/60\n",
      "60000/60000 [==============================] - 10s 169us/sample - loss: 0.2766 - accuracy: 0.8990 - val_loss: 0.2700 - val_accuracy: 0.8984\n",
      "Epoch 19/60\n",
      "60000/60000 [==============================] - 10s 170us/sample - loss: 0.2730 - accuracy: 0.9003 - val_loss: 0.2641 - val_accuracy: 0.9003\n",
      "Epoch 20/60\n",
      "60000/60000 [==============================] - 10s 168us/sample - loss: 0.2727 - accuracy: 0.9002 - val_loss: 0.2645 - val_accuracy: 0.9042\n",
      "Epoch 21/60\n",
      "60000/60000 [==============================] - 10s 170us/sample - loss: 0.2721 - accuracy: 0.9004 - val_loss: 0.2837 - val_accuracy: 0.8957\n",
      "Epoch 22/60\n",
      "60000/60000 [==============================] - 10s 166us/sample - loss: 0.2737 - accuracy: 0.8995 - val_loss: 0.2516 - val_accuracy: 0.9081\n",
      "Epoch 23/60\n",
      "60000/60000 [==============================] - 10s 168us/sample - loss: 0.2699 - accuracy: 0.9015 - val_loss: 0.2490 - val_accuracy: 0.9093\n",
      "Epoch 24/60\n",
      "60000/60000 [==============================] - 10s 172us/sample - loss: 0.2669 - accuracy: 0.9030 - val_loss: 0.2668 - val_accuracy: 0.9018\n",
      "Epoch 25/60\n",
      "60000/60000 [==============================] - 10s 171us/sample - loss: 0.2677 - accuracy: 0.9025 - val_loss: 0.2519 - val_accuracy: 0.9078\n",
      "Epoch 26/60\n",
      "60000/60000 [==============================] - 10s 168us/sample - loss: 0.2640 - accuracy: 0.9039 - val_loss: 0.2607 - val_accuracy: 0.9048\n",
      "Epoch 27/60\n",
      "60000/60000 [==============================] - 10s 169us/sample - loss: 0.2627 - accuracy: 0.9038 - val_loss: 0.2569 - val_accuracy: 0.9057\n",
      "Epoch 28/60\n",
      "60000/60000 [==============================] - 10s 167us/sample - loss: 0.2621 - accuracy: 0.9048 - val_loss: 0.2884 - val_accuracy: 0.8999\n",
      "Epoch 29/60\n",
      "60000/60000 [==============================] - 10s 170us/sample - loss: 0.2659 - accuracy: 0.9056 - val_loss: 0.2655 - val_accuracy: 0.9044\n",
      "Epoch 30/60\n",
      "60000/60000 [==============================] - 10s 167us/sample - loss: 0.2653 - accuracy: 0.9046 - val_loss: 0.2772 - val_accuracy: 0.8965\n",
      "Epoch 31/60\n",
      "60000/60000 [==============================] - 10s 162us/sample - loss: 0.2598 - accuracy: 0.9062 - val_loss: 0.2639 - val_accuracy: 0.9060\n",
      "Epoch 32/60\n",
      "60000/60000 [==============================] - 10s 162us/sample - loss: 0.2623 - accuracy: 0.9047 - val_loss: 0.2521 - val_accuracy: 0.9083\n",
      "Epoch 33/60\n",
      "60000/60000 [==============================] - 10s 162us/sample - loss: 0.2642 - accuracy: 0.9053 - val_loss: 0.2513 - val_accuracy: 0.9097\n",
      "Epoch 34/60\n",
      "60000/60000 [==============================] - 10s 166us/sample - loss: 0.2602 - accuracy: 0.9054 - val_loss: 0.2620 - val_accuracy: 0.9040\n",
      "Epoch 35/60\n",
      "60000/60000 [==============================] - 10s 164us/sample - loss: 0.2565 - accuracy: 0.9069 - val_loss: 0.2581 - val_accuracy: 0.9038\n",
      "Epoch 36/60\n",
      "60000/60000 [==============================] - 10s 160us/sample - loss: 0.2636 - accuracy: 0.9050 - val_loss: 0.2446 - val_accuracy: 0.9088\n",
      "Epoch 37/60\n",
      "60000/60000 [==============================] - 10s 164us/sample - loss: 0.2609 - accuracy: 0.9068 - val_loss: 0.2566 - val_accuracy: 0.9070\n",
      "Epoch 38/60\n",
      "60000/60000 [==============================] - 10s 161us/sample - loss: 0.2588 - accuracy: 0.9077 - val_loss: 0.2574 - val_accuracy: 0.9057\n",
      "Epoch 39/60\n",
      "60000/60000 [==============================] - 10s 166us/sample - loss: 0.2593 - accuracy: 0.9064 - val_loss: 0.2336 - val_accuracy: 0.9159\n",
      "Epoch 40/60\n",
      "60000/60000 [==============================] - 10s 170us/sample - loss: 0.2584 - accuracy: 0.9073 - val_loss: 0.2377 - val_accuracy: 0.9125\n",
      "Epoch 41/60\n",
      "60000/60000 [==============================] - 10s 168us/sample - loss: 0.2596 - accuracy: 0.9078 - val_loss: 0.2633 - val_accuracy: 0.9066\n",
      "Epoch 42/60\n",
      "60000/60000 [==============================] - 10s 171us/sample - loss: 0.2570 - accuracy: 0.9082 - val_loss: 0.2348 - val_accuracy: 0.9152\n",
      "Epoch 43/60\n",
      "60000/60000 [==============================] - 10s 172us/sample - loss: 0.2526 - accuracy: 0.9081 - val_loss: 0.2612 - val_accuracy: 0.9065\n",
      "Epoch 44/60\n",
      "60000/60000 [==============================] - 10s 167us/sample - loss: 0.2530 - accuracy: 0.9088 - val_loss: 0.2539 - val_accuracy: 0.9107\n",
      "Epoch 45/60\n",
      "60000/60000 [==============================] - 10s 167us/sample - loss: 0.2607 - accuracy: 0.9061 - val_loss: 0.2401 - val_accuracy: 0.9102\n",
      "Epoch 46/60\n",
      "60000/60000 [==============================] - 10s 167us/sample - loss: 0.2510 - accuracy: 0.9117 - val_loss: 0.2378 - val_accuracy: 0.9151\n",
      "Epoch 47/60\n",
      "60000/60000 [==============================] - 10s 169us/sample - loss: 0.2581 - accuracy: 0.9070 - val_loss: 0.2434 - val_accuracy: 0.9142\n",
      "Epoch 48/60\n",
      "60000/60000 [==============================] - 10s 167us/sample - loss: 0.2541 - accuracy: 0.9082 - val_loss: 0.2490 - val_accuracy: 0.9133\n",
      "Epoch 49/60\n",
      "60000/60000 [==============================] - 10s 167us/sample - loss: 0.2539 - accuracy: 0.9091 - val_loss: 0.2309 - val_accuracy: 0.9173\n",
      "Epoch 50/60\n",
      "60000/60000 [==============================] - 10s 166us/sample - loss: 0.2550 - accuracy: 0.9093 - val_loss: 0.2547 - val_accuracy: 0.9072\n",
      "Epoch 51/60\n",
      "60000/60000 [==============================] - 10s 169us/sample - loss: 0.2535 - accuracy: 0.9093 - val_loss: 0.2800 - val_accuracy: 0.9040\n",
      "Epoch 52/60\n",
      "60000/60000 [==============================] - 10s 167us/sample - loss: 0.2582 - accuracy: 0.9093 - val_loss: 0.2598 - val_accuracy: 0.9068\n",
      "Epoch 53/60\n",
      "60000/60000 [==============================] - 10s 168us/sample - loss: 0.2504 - accuracy: 0.9095 - val_loss: 0.2338 - val_accuracy: 0.9146\n",
      "Epoch 54/60\n",
      "60000/60000 [==============================] - 10s 164us/sample - loss: 0.2503 - accuracy: 0.9098 - val_loss: 0.2517 - val_accuracy: 0.9088\n",
      "Epoch 55/60\n",
      "60000/60000 [==============================] - 10s 164us/sample - loss: 0.2528 - accuracy: 0.9093 - val_loss: 0.3141 - val_accuracy: 0.8916\n",
      "Epoch 56/60\n",
      "60000/60000 [==============================] - 10s 164us/sample - loss: 0.2562 - accuracy: 0.9078 - val_loss: 0.2571 - val_accuracy: 0.9048\n",
      "Epoch 57/60\n",
      "60000/60000 [==============================] - 10s 165us/sample - loss: 0.2496 - accuracy: 0.9116 - val_loss: 0.2452 - val_accuracy: 0.9112\n",
      "Epoch 58/60\n",
      "60000/60000 [==============================] - 10s 164us/sample - loss: 0.2464 - accuracy: 0.9122 - val_loss: 0.2474 - val_accuracy: 0.9127\n",
      "Epoch 59/60\n",
      "60000/60000 [==============================] - 10s 165us/sample - loss: 0.2536 - accuracy: 0.9083 - val_loss: 0.2382 - val_accuracy: 0.9131\n",
      "Epoch 60/60\n",
      "60000/60000 [==============================] - 10s 166us/sample - loss: 0.2555 - accuracy: 0.9091 - val_loss: 0.2555 - val_accuracy: 0.9074\n"
     ]
    }
   ],
   "source": [
    "history = model.fit(train_images, train_labels,\n",
    "                    epochs=60,\n",
    "                    validation_data=(test_images, test_labels))"
   ]
  },
  {
   "cell_type": "code",
   "execution_count": 18,
   "metadata": {},
   "outputs": [
    {
     "data": {
      "text/plain": [
       "<matplotlib.legend.Legend at 0x7fbf4f824f60>"
      ]
     },
     "execution_count": 18,
     "metadata": {},
     "output_type": "execute_result"
    },
    {
     "data": {
      "image/png": "[encoded data removed]",
      "text/plain": [
       "<Figure size 432x288 with 1 Axes>"
      ]
     },
     "metadata": {
      "needs_background": "light"
     },
     "output_type": "display_data"
    }
   ],
   "source": [
    "plt.plot(history.epoch, history.history.get('accuracy'), label='Train dataset accuracy')\n",
    "plt.plot(history.epoch, history.history.get('val_accuracy'), label='Test dataset accuracy')\n",
    "plt.legend()"
   ]
  },
  {
   "cell_type": "code",
   "execution_count": 19,
   "metadata": {},
   "outputs": [
    {
     "data": {
      "text/plain": [
       "<matplotlib.legend.Legend at 0x7fbeb25f90b8>"
      ]
     },
     "execution_count": 19,
     "metadata": {},
     "output_type": "execute_result"
    },
    {
     "data": {
      "image/png": "[encoded data removed]",
      "text/plain": [
       "<Figure size 432x288 with 1 Axes>"
      ]
     },
     "metadata": {
      "needs_background": "light"
     },
     "output_type": "display_data"
    }
   ],
   "source": [
    "plt.plot(history.epoch, history.history.get('loss'), label='Train dataset loss')\n",
    "plt.plot(history.epoch, history.history.get('val_loss'), label='Test dataset loss')\n",
    "plt.legend()"
   ]
  },
  {
   "cell_type": "markdown",
   "metadata": {},
   "source": [
    "### End of this file"
   ]
  }
 ],
 "metadata": {
  "kernelspec": {
   "display_name": "Python 3",
   "language": "python",
   "name": "python3"
  },
  "language_info": {
   "codemirror_mode": {
    "name": "ipython",
    "version": 3
   },
   "file_extension": ".py",
   "mimetype": "text/x-python",
   "name": "python",
   "nbconvert_exporter": "python",
   "pygments_lexer": "ipython3",
   "version": "3.6.9"
  }
 },
 "nbformat": 4,
 "nbformat_minor": 4
}
