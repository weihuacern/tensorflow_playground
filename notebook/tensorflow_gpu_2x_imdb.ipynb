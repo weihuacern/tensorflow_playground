{
 "cells": [
  {
   "cell_type": "code",
   "execution_count": 1,
   "metadata": {},
   "outputs": [
    {
     "name": "stdout",
     "output_type": "stream",
     "text": [
      "Tensorflow version: 2.1.0\n"
     ]
    },
    {
     "data": {
      "text/plain": [
       "[PhysicalDevice(name='/physical_device:GPU:0', device_type='GPU')]"
      ]
     },
     "execution_count": 1,
     "metadata": {},
     "output_type": "execute_result"
    }
   ],
   "source": [
    "import matplotlib.pyplot as plt\n",
    "import numpy as np\n",
    "import pandas as pd\n",
    "import tensorflow as tf\n",
    "%matplotlib inline\n",
    "print(f\"Tensorflow version: {tf.__version__}\")\n",
    "tf.config.list_physical_devices('GPU')"
   ]
  },
  {
   "cell_type": "markdown",
   "metadata": {},
   "source": [
    "### Data processing"
   ]
  },
  {
   "cell_type": "code",
   "execution_count": 2,
   "metadata": {},
   "outputs": [],
   "source": [
    "MAX_NUM_WORDS = 20000"
   ]
  },
  {
   "cell_type": "code",
   "execution_count": 3,
   "metadata": {},
   "outputs": [],
   "source": [
    "(train_x, train_y), (test_x, test_y) = tf.keras.datasets.imdb.load_data(num_words=MAX_NUM_WORDS)"
   ]
  },
  {
   "cell_type": "code",
   "execution_count": 4,
   "metadata": {},
   "outputs": [],
   "source": [
    "train_x = tf.keras.preprocessing.sequence.pad_sequences(train_x, 500)\n",
    "test_x = tf.keras.preprocessing.sequence.pad_sequences(test_x, 500)"
   ]
  },
  {
   "cell_type": "markdown",
   "metadata": {},
   "source": [
    "### Model"
   ]
  },
  {
   "cell_type": "code",
   "execution_count": 6,
   "metadata": {},
   "outputs": [],
   "source": [
    "model = tf.keras.Sequential(\n",
    "    [\n",
    "        tf.keras.layers.Embedding(MAX_NUM_WORDS, 100, input_length=500),\n",
    "        tf.keras.layers.Flatten(),\n",
    "        tf.keras.layers.Dense(128, activation='relu'),\n",
    "        tf.keras.layers.Dense(1, activation='sigmoid'),\n",
    "    ]\n",
    ")"
   ]
  },
  {
   "cell_type": "code",
   "execution_count": 7,
   "metadata": {},
   "outputs": [
    {
     "name": "stdout",
     "output_type": "stream",
     "text": [
      "Model: \"sequential\"\n",
      "_________________________________________________________________\n",
      "Layer (type)                 Output Shape              Param #   \n",
      "=================================================================\n",
      "embedding (Embedding)        (None, 500, 100)          2000000   \n",
      "_________________________________________________________________\n",
      "flatten (Flatten)            (None, 50000)             0         \n",
      "_________________________________________________________________\n",
      "dense (Dense)                (None, 128)               6400128   \n",
      "_________________________________________________________________\n",
      "dense_1 (Dense)              (None, 1)                 129       \n",
      "=================================================================\n",
      "Total params: 8,400,257\n",
      "Trainable params: 8,400,257\n",
      "Non-trainable params: 0\n",
      "_________________________________________________________________\n"
     ]
    }
   ],
   "source": [
    "model.summary()"
   ]
  },
  {
   "cell_type": "code",
   "execution_count": 8,
   "metadata": {},
   "outputs": [],
   "source": [
    "model.compile(\n",
    "    optimizer=tf.keras.optimizers.Adam(learning_rate=0.001),\n",
    "    loss='binary_crossentropy',\n",
    "    metrics=['accuracy'],\n",
    ")"
   ]
  },
  {
   "cell_type": "code",
   "execution_count": 9,
   "metadata": {},
   "outputs": [
    {
     "name": "stdout",
     "output_type": "stream",
     "text": [
      "Train on 25000 samples, validate on 25000 samples\n",
      "Epoch 1/15\n",
      "25000/25000 [==============================] - 5s 220us/sample - loss: 0.6808 - accuracy: 0.5516 - val_loss: 0.5862 - val_accuracy: 0.7722\n",
      "Epoch 2/15\n",
      "25000/25000 [==============================] - 6s 239us/sample - loss: 0.3067 - accuracy: 0.8746 - val_loss: 0.2791 - val_accuracy: 0.8855\n",
      "Epoch 3/15\n",
      "25000/25000 [==============================] - 6s 220us/sample - loss: 0.1092 - accuracy: 0.9647 - val_loss: 0.2916 - val_accuracy: 0.8833\n",
      "Epoch 4/15\n",
      "25000/25000 [==============================] - 6s 240us/sample - loss: 0.0275 - accuracy: 0.9945 - val_loss: 0.3592 - val_accuracy: 0.8789\n",
      "Epoch 5/15\n",
      "25000/25000 [==============================] - 5s 219us/sample - loss: 0.0044 - accuracy: 0.9995 - val_loss: 0.4093 - val_accuracy: 0.8775\n",
      "Epoch 6/15\n",
      "25000/25000 [==============================] - 6s 245us/sample - loss: 9.5704e-04 - accuracy: 1.0000 - val_loss: 0.4387 - val_accuracy: 0.8780\n",
      "Epoch 7/15\n",
      "25000/25000 [==============================] - 6s 246us/sample - loss: 4.4721e-04 - accuracy: 1.0000 - val_loss: 0.4578 - val_accuracy: 0.8776\n",
      "Epoch 8/15\n",
      "25000/25000 [==============================] - 5s 205us/sample - loss: 2.9225e-04 - accuracy: 1.0000 - val_loss: 0.4736 - val_accuracy: 0.8776\n",
      "Epoch 9/15\n",
      "25000/25000 [==============================] - 5s 209us/sample - loss: 2.1099e-04 - accuracy: 1.0000 - val_loss: 0.4866 - val_accuracy: 0.8774\n",
      "Epoch 10/15\n",
      "25000/25000 [==============================] - 6s 228us/sample - loss: 1.5823e-04 - accuracy: 1.0000 - val_loss: 0.4986 - val_accuracy: 0.8780\n",
      "Epoch 11/15\n",
      "25000/25000 [==============================] - 6s 235us/sample - loss: 1.2352e-04 - accuracy: 1.0000 - val_loss: 0.5093 - val_accuracy: 0.8775\n",
      "Epoch 12/15\n",
      "25000/25000 [==============================] - 5s 196us/sample - loss: 9.8483e-05 - accuracy: 1.0000 - val_loss: 0.5193 - val_accuracy: 0.8778\n",
      "Epoch 13/15\n",
      "25000/25000 [==============================] - 5s 210us/sample - loss: 8.0058e-05 - accuracy: 1.0000 - val_loss: 0.5288 - val_accuracy: 0.8779\n",
      "Epoch 14/15\n",
      "25000/25000 [==============================] - 6s 250us/sample - loss: 6.5593e-05 - accuracy: 1.0000 - val_loss: 0.5378 - val_accuracy: 0.8779\n",
      "Epoch 15/15\n",
      "25000/25000 [==============================] - 5s 207us/sample - loss: 5.4667e-05 - accuracy: 1.0000 - val_loss: 0.5463 - val_accuracy: 0.8779\n"
     ]
    },
    {
     "data": {
      "text/plain": [
       "<tensorflow.python.keras.callbacks.History at 0x7f2db27bec18>"
      ]
     },
     "execution_count": 9,
     "metadata": {},
     "output_type": "execute_result"
    }
   ],
   "source": [
    "model.fit(\n",
    "    train_x, train_y, epochs=15, batch_size=256,\n",
    "    validation_data=(test_x, test_y)\n",
    ")"
   ]
  },
  {
   "cell_type": "markdown",
   "metadata": {},
   "source": [
    "Obviously, overfitted\n",
    "To resolve overfit issue:\n",
    "- Dropout\n",
    "- L1 or L2 regularization"
   ]
  },
  {
   "cell_type": "code",
   "execution_count": 14,
   "metadata": {},
   "outputs": [],
   "source": [
    "model = tf.keras.Sequential(\n",
    "    [\n",
    "        tf.keras.layers.Embedding(MAX_NUM_WORDS, 100, input_length=500),\n",
    "        tf.keras.layers.GlobalAveragePooling1D(),\n",
    "        tf.keras.layers.Dense(64, activation='relu'),\n",
    "        tf.keras.layers.Dropout(0.5),\n",
    "        tf.keras.layers.Dense(1, activation='sigmoid'),\n",
    "    ]\n",
    ")"
   ]
  },
  {
   "cell_type": "code",
   "execution_count": 15,
   "metadata": {},
   "outputs": [
    {
     "name": "stdout",
     "output_type": "stream",
     "text": [
      "Model: \"sequential_3\"\n",
      "_________________________________________________________________\n",
      "Layer (type)                 Output Shape              Param #   \n",
      "=================================================================\n",
      "embedding_3 (Embedding)      (None, 500, 100)          2000000   \n",
      "_________________________________________________________________\n",
      "global_average_pooling1d_2 ( (None, 100)               0         \n",
      "_________________________________________________________________\n",
      "dense_6 (Dense)              (None, 64)                6464      \n",
      "_________________________________________________________________\n",
      "dropout_2 (Dropout)          (None, 64)                0         \n",
      "_________________________________________________________________\n",
      "dense_7 (Dense)              (None, 1)                 65        \n",
      "=================================================================\n",
      "Total params: 2,006,529\n",
      "Trainable params: 2,006,529\n",
      "Non-trainable params: 0\n",
      "_________________________________________________________________\n"
     ]
    }
   ],
   "source": [
    "model.summary()"
   ]
  },
  {
   "cell_type": "code",
   "execution_count": 16,
   "metadata": {},
   "outputs": [],
   "source": [
    "model.compile(\n",
    "    optimizer=tf.keras.optimizers.Adam(learning_rate=0.001),\n",
    "    loss='binary_crossentropy',\n",
    "    metrics=['accuracy'],\n",
    ")"
   ]
  },
  {
   "cell_type": "code",
   "execution_count": 17,
   "metadata": {},
   "outputs": [
    {
     "name": "stdout",
     "output_type": "stream",
     "text": [
      "Train on 25000 samples, validate on 25000 samples\n",
      "Epoch 1/15\n",
      "25000/25000 [==============================] - 5s 190us/sample - loss: 0.6808 - accuracy: 0.6191 - val_loss: 0.6423 - val_accuracy: 0.7693\n",
      "Epoch 2/15\n",
      "25000/25000 [==============================] - 5s 216us/sample - loss: 0.5262 - accuracy: 0.7972 - val_loss: 0.4194 - val_accuracy: 0.8484\n",
      "Epoch 3/15\n",
      "25000/25000 [==============================] - 5s 191us/sample - loss: 0.3407 - accuracy: 0.8755 - val_loss: 0.3275 - val_accuracy: 0.8723\n",
      "Epoch 4/15\n",
      "25000/25000 [==============================] - 6s 238us/sample - loss: 0.2621 - accuracy: 0.9058 - val_loss: 0.2956 - val_accuracy: 0.8839\n",
      "Epoch 5/15\n",
      "25000/25000 [==============================] - 6s 223us/sample - loss: 0.2150 - accuracy: 0.9238 - val_loss: 0.2822 - val_accuracy: 0.8878\n",
      "Epoch 6/15\n",
      "25000/25000 [==============================] - 5s 220us/sample - loss: 0.1829 - accuracy: 0.9371 - val_loss: 0.2782 - val_accuracy: 0.8904\n",
      "Epoch 7/15\n",
      "25000/25000 [==============================] - 5s 188us/sample - loss: 0.1572 - accuracy: 0.9469 - val_loss: 0.2820 - val_accuracy: 0.8892\n",
      "Epoch 8/15\n",
      "25000/25000 [==============================] - 5s 204us/sample - loss: 0.1377 - accuracy: 0.9566 - val_loss: 0.2904 - val_accuracy: 0.8881\n",
      "Epoch 9/15\n",
      "25000/25000 [==============================] - 5s 203us/sample - loss: 0.1181 - accuracy: 0.9642 - val_loss: 0.2969 - val_accuracy: 0.8866\n",
      "Epoch 10/15\n",
      "25000/25000 [==============================] - 5s 200us/sample - loss: 0.1040 - accuracy: 0.9691 - val_loss: 0.3145 - val_accuracy: 0.8820\n",
      "Epoch 11/15\n",
      "25000/25000 [==============================] - 5s 193us/sample - loss: 0.0939 - accuracy: 0.9732 - val_loss: 0.3235 - val_accuracy: 0.8823\n",
      "Epoch 12/15\n",
      "25000/25000 [==============================] - 5s 202us/sample - loss: 0.0794 - accuracy: 0.9786 - val_loss: 0.3414 - val_accuracy: 0.8811\n",
      "Epoch 13/15\n",
      "25000/25000 [==============================] - 6s 242us/sample - loss: 0.0703 - accuracy: 0.9808 - val_loss: 0.3594 - val_accuracy: 0.8794\n",
      "Epoch 14/15\n",
      "25000/25000 [==============================] - 5s 202us/sample - loss: 0.0633 - accuracy: 0.9835 - val_loss: 0.4090 - val_accuracy: 0.8654\n",
      "Epoch 15/15\n",
      "25000/25000 [==============================] - 6s 242us/sample - loss: 0.0541 - accuracy: 0.9870 - val_loss: 0.3910 - val_accuracy: 0.8773\n"
     ]
    },
    {
     "data": {
      "text/plain": [
       "<tensorflow.python.keras.callbacks.History at 0x7f2db23aaef0>"
      ]
     },
     "execution_count": 17,
     "metadata": {},
     "output_type": "execute_result"
    }
   ],
   "source": [
    "model.fit(\n",
    "    train_x, train_y, epochs=15, batch_size=256,\n",
    "    validation_data=(test_x, test_y)\n",
    ")"
   ]
  },
  {
   "cell_type": "code",
   "execution_count": null,
   "metadata": {},
   "outputs": [],
   "source": []
  }
 ],
 "metadata": {
  "kernelspec": {
   "display_name": "Python 3",
   "language": "python",
   "name": "python3"
  },
  "language_info": {
   "codemirror_mode": {
    "name": "ipython",
    "version": 3
   },
   "file_extension": ".py",
   "mimetype": "text/x-python",
   "name": "python",
   "nbconvert_exporter": "python",
   "pygments_lexer": "ipython3",
   "version": "3.6.9"
  }
 },
 "nbformat": 4,
 "nbformat_minor": 4
}
